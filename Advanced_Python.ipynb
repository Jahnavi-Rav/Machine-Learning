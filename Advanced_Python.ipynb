{
  "nbformat": 4,
  "nbformat_minor": 0,
  "metadata": {
    "colab": {
      "provenance": [],
      "collapsed_sections": []
    },
    "kernelspec": {
      "name": "python3",
      "display_name": "Python 3"
    },
    "language_info": {
      "name": "python"
    }
  },
  "cells": [
    {
      "cell_type": "code",
      "execution_count": 1,
      "metadata": {
        "colab": {
          "base_uri": "https://localhost:8080/"
        },
        "id": "0UrjXBQI2UAm",
        "outputId": "ea0d1ddd-ff2a-41c7-d8a2-1f84cb99dd1f"
      },
      "outputs": [
        {
          "output_type": "stream",
          "name": "stdout",
          "text": [
            "Hey everybody!\n"
          ]
        }
      ],
      "source": [
        "print(\"Hey everybody!\")"
      ]
    },
    {
      "cell_type": "code",
      "source": [
        "str = \"Hey!!!\""
      ],
      "metadata": {
        "id": "MZQURgLI2gfu"
      },
      "execution_count": 2,
      "outputs": []
    },
    {
      "cell_type": "code",
      "source": [
        "def greeting(name):\n",
        "  return \"Hello {}\".format(name)"
      ],
      "metadata": {
        "id": "JhudOFV42i6x"
      },
      "execution_count": 4,
      "outputs": []
    },
    {
      "cell_type": "code",
      "source": [
        "greeting(\"Jahnavi Ravi!!\")"
      ],
      "metadata": {
        "colab": {
          "base_uri": "https://localhost:8080/",
          "height": 37
        },
        "id": "Fy0mG9BP25Yf",
        "outputId": "2f751eae-69ad-48b1-d48a-7425879b69ff"
      },
      "execution_count": 6,
      "outputs": [
        {
          "output_type": "execute_result",
          "data": {
            "text/plain": [
              "'Hello Jahnavi Ravi!!'"
            ],
            "application/vnd.google.colaboratory.intrinsic+json": {
              "type": "string"
            }
          },
          "metadata": {},
          "execution_count": 6
        }
      ]
    },
    {
      "cell_type": "code",
      "source": [
        "def email(first, last, yearofbirth):\n",
        "  return \"{}{}{}@gmail.com\".format(first, last, yearofbirth)"
      ],
      "metadata": {
        "id": "9w55aGuw2_fw"
      },
      "execution_count": 10,
      "outputs": []
    },
    {
      "cell_type": "code",
      "source": [
        "email(\"jahnavi\", \"ravi\", \"1998\")"
      ],
      "metadata": {
        "colab": {
          "base_uri": "https://localhost:8080/",
          "height": 37
        },
        "id": "I63XQYxT3isb",
        "outputId": "514ff90d-3feb-4474-9144-d186afc1c107"
      },
      "execution_count": 12,
      "outputs": [
        {
          "output_type": "execute_result",
          "data": {
            "text/plain": [
              "'jahnaviravi1998@gmail.com'"
            ],
            "application/vnd.google.colaboratory.intrinsic+json": {
              "type": "string"
            }
          },
          "metadata": {},
          "execution_count": 12
        }
      ]
    },
    {
      "cell_type": "code",
      "source": [
        "def ex(name, age):\n",
        "  return \"Hello {}! Your age is {}\".format(name, age)"
      ],
      "metadata": {
        "id": "v5bk-Y8C3ohG"
      },
      "execution_count": 13,
      "outputs": []
    },
    {
      "cell_type": "code",
      "source": [
        "ex(\"Jahnavi Ravi\", \"23\")"
      ],
      "metadata": {
        "colab": {
          "base_uri": "https://localhost:8080/",
          "height": 37
        },
        "id": "i_hw95184MUt",
        "outputId": "63af9eef-175a-438e-8f6f-e829824693ad"
      },
      "execution_count": 14,
      "outputs": [
        {
          "output_type": "execute_result",
          "data": {
            "text/plain": [
              "'Hello Jahnavi Ravi! Your age is 23'"
            ],
            "application/vnd.google.colaboratory.intrinsic+json": {
              "type": "string"
            }
          },
          "metadata": {},
          "execution_count": 14
        }
      ]
    },
    {
      "cell_type": "code",
      "source": [
        "#List is iterable\n",
        "lst = [1, 2, 3, 4, 5, 6, 7]\n",
        "for i in lst:\n",
        "  print(i)"
      ],
      "metadata": {
        "colab": {
          "base_uri": "https://localhost:8080/"
        },
        "id": "2t2pStzA4Q7E",
        "outputId": "3bb78a92-679d-45a2-9f01-6dc7358c57e4"
      },
      "execution_count": 17,
      "outputs": [
        {
          "output_type": "stream",
          "name": "stdout",
          "text": [
            "1\n",
            "2\n",
            "3\n",
            "4\n",
            "5\n",
            "6\n",
            "7\n"
          ]
        }
      ]
    },
    {
      "cell_type": "code",
      "source": [
        "iter(lst)"
      ],
      "metadata": {
        "colab": {
          "base_uri": "https://localhost:8080/"
        },
        "id": "eAB9moIM6eXU",
        "outputId": "0dcb310e-66e7-482a-c735-ff9cf8648a1a"
      },
      "execution_count": 18,
      "outputs": [
        {
          "output_type": "execute_result",
          "data": {
            "text/plain": [
              "<list_iterator at 0x7f3fad23c710>"
            ]
          },
          "metadata": {},
          "execution_count": 18
        }
      ]
    },
    {
      "cell_type": "code",
      "source": [
        "a = iter(lst)"
      ],
      "metadata": {
        "id": "qdPUtlV66egX"
      },
      "execution_count": 30,
      "outputs": []
    },
    {
      "cell_type": "code",
      "source": [
        "a"
      ],
      "metadata": {
        "colab": {
          "base_uri": "https://localhost:8080/"
        },
        "id": "4qLVoh1w6eo_",
        "outputId": "358c5529-da4f-45b4-e2a8-e1ff615b87ba"
      },
      "execution_count": 31,
      "outputs": [
        {
          "output_type": "execute_result",
          "data": {
            "text/plain": [
              "<list_iterator at 0x7f3fad277490>"
            ]
          },
          "metadata": {},
          "execution_count": 31
        }
      ]
    },
    {
      "cell_type": "code",
      "source": [
        "next(a)"
      ],
      "metadata": {
        "colab": {
          "base_uri": "https://localhost:8080/"
        },
        "id": "5qgvZsyt6exp",
        "outputId": "888dfe30-03dd-4109-d731-6508dd5874d2"
      },
      "execution_count": 32,
      "outputs": [
        {
          "output_type": "execute_result",
          "data": {
            "text/plain": [
              "1"
            ]
          },
          "metadata": {},
          "execution_count": 32
        }
      ]
    },
    {
      "cell_type": "code",
      "source": [
        "next(a)"
      ],
      "metadata": {
        "colab": {
          "base_uri": "https://localhost:8080/"
        },
        "id": "08V-uCV76e2i",
        "outputId": "705700c2-f9fe-48dd-b432-a01939341a17"
      },
      "execution_count": 34,
      "outputs": [
        {
          "output_type": "execute_result",
          "data": {
            "text/plain": [
              "3"
            ]
          },
          "metadata": {},
          "execution_count": 34
        }
      ]
    },
    {
      "cell_type": "code",
      "source": [
        "next(a)"
      ],
      "metadata": {
        "colab": {
          "base_uri": "https://localhost:8080/"
        },
        "id": "7uYEl7HS6e55",
        "outputId": "b3970af2-343d-48a8-9d70-9271e8dfaa96"
      },
      "execution_count": 35,
      "outputs": [
        {
          "output_type": "execute_result",
          "data": {
            "text/plain": [
              "4"
            ]
          },
          "metadata": {},
          "execution_count": 35
        }
      ]
    },
    {
      "cell_type": "code",
      "source": [
        "for _ in a:\n",
        "  print(_) "
      ],
      "metadata": {
        "id": "EDAz8h7s7YoZ"
      },
      "execution_count": 38,
      "outputs": []
    },
    {
      "cell_type": "code",
      "source": [
        "!python --version"
      ],
      "metadata": {
        "colab": {
          "base_uri": "https://localhost:8080/"
        },
        "id": "vKcOIY288vGC",
        "outputId": "d5a80c35-e714-42ac-cefd-44e2f00a8968"
      },
      "execution_count": 51,
      "outputs": [
        {
          "output_type": "stream",
          "name": "stdout",
          "text": [
            "Python 3.7.13\n"
          ]
        }
      ]
    },
    {
      "cell_type": "code",
      "source": [
        "!pip install Pyforest"
      ],
      "metadata": {
        "colab": {
          "base_uri": "https://localhost:8080/"
        },
        "id": "pqZ_RRul_1OQ",
        "outputId": "83d640b6-186c-44e5-8484-a00d6cc57c31"
      },
      "execution_count": 52,
      "outputs": [
        {
          "output_type": "stream",
          "name": "stdout",
          "text": [
            "Looking in indexes: https://pypi.org/simple, https://us-python.pkg.dev/colab-wheels/public/simple/\n",
            "Requirement already satisfied: Pyforest in /usr/local/lib/python3.7/dist-packages (1.1.0)\n"
          ]
        }
      ]
    },
    {
      "cell_type": "code",
      "source": [
        "from pyforest import * "
      ],
      "metadata": {
        "id": "M0siDfSU_6O2"
      },
      "execution_count": 54,
      "outputs": []
    },
    {
      "cell_type": "code",
      "source": [
        "np.array([1, 2, 3, 4, 5])"
      ],
      "metadata": {
        "colab": {
          "base_uri": "https://localhost:8080/",
          "height": 34
        },
        "id": "CQJQ1tbv8yhx",
        "outputId": "772dc16b-caa4-4f18-b144-d889c488fd69"
      },
      "execution_count": 57,
      "outputs": [
        {
          "output_type": "display_data",
          "data": {
            "text/plain": [
              "<IPython.core.display.Javascript object>"
            ],
            "application/javascript": [
              "\n",
              "        if (window._pyforest_update_imports_cell) { window._pyforest_update_imports_cell('import nltk\\nimport matplotlib.pyplot as plt\\nimport pandas as pd\\nimport numpy as np'); }\n",
              "    "
            ]
          },
          "metadata": {}
        },
        {
          "output_type": "execute_result",
          "data": {
            "text/plain": [
              "array([1, 2, 3, 4, 5])"
            ]
          },
          "metadata": {},
          "execution_count": 57
        }
      ]
    },
    {
      "cell_type": "code",
      "source": [
        "plt.plot([1, 2, 3], [4, 5, 6])"
      ],
      "metadata": {
        "colab": {
          "base_uri": "https://localhost:8080/",
          "height": 282
        },
        "id": "34nIXKMq-WmC",
        "outputId": "350df054-c70d-430c-e4a8-0b703c0b5c31"
      },
      "execution_count": 56,
      "outputs": [
        {
          "output_type": "display_data",
          "data": {
            "text/plain": [
              "<IPython.core.display.Javascript object>"
            ],
            "application/javascript": [
              "\n",
              "        if (window._pyforest_update_imports_cell) { window._pyforest_update_imports_cell('import matplotlib.pyplot as plt\\nimport pandas as pd'); }\n",
              "    "
            ]
          },
          "metadata": {}
        },
        {
          "output_type": "execute_result",
          "data": {
            "text/plain": [
              "[<matplotlib.lines.Line2D at 0x7f3fa4e1ce10>]"
            ]
          },
          "metadata": {},
          "execution_count": 56
        },
        {
          "output_type": "display_data",
          "data": {
            "text/plain": [
              "<Figure size 432x288 with 1 Axes>"
            ],
            "image/png": "[encoded data removed]"
          },
          "metadata": {
            "needs_background": "light"
          }
        }
      ]
    },
    {
      "cell_type": "code",
      "source": [
        "active_imports()"
      ],
      "metadata": {
        "colab": {
          "base_uri": "https://localhost:8080/"
        },
        "id": "-B67RFhG-jgH",
        "outputId": "4f1beb40-73c5-48fc-fb2d-80b3ccf1d4a6"
      },
      "execution_count": 58,
      "outputs": [
        {
          "output_type": "stream",
          "name": "stdout",
          "text": [
            "import pandas as pd\n",
            "import numpy as np\n",
            "import altair as alt\n",
            "import matplotlib.pyplot as plt\n",
            "import nltk\n"
          ]
        },
        {
          "output_type": "execute_result",
          "data": {
            "text/plain": [
              "['import pandas as pd',\n",
              " 'import numpy as np',\n",
              " 'import altair as alt',\n",
              " 'import matplotlib.pyplot as plt',\n",
              " 'import nltk']"
            ]
          },
          "metadata": {},
          "execution_count": 58
        }
      ]
    },
    {
      "cell_type": "code",
      "source": [
        "sns.displot([4, 6, 2, 9])"
      ],
      "metadata": {
        "colab": {
          "base_uri": "https://localhost:8080/",
          "height": 386
        },
        "id": "dthmPyrPAoU3",
        "outputId": "e910f16d-8ae1-48c0-8b45-4c7b7df903ee"
      },
      "execution_count": 59,
      "outputs": [
        {
          "output_type": "display_data",
          "data": {
            "text/plain": [
              "<IPython.core.display.Javascript object>"
            ],
            "application/javascript": [
              "\n",
              "        if (window._pyforest_update_imports_cell) { window._pyforest_update_imports_cell('import tqdm\\nimport pandas as pd\\nimport spacy\\nimport sys\\nfrom scipy import stats\\nimport matplotlib.pyplot as plt\\nimport tensorflow as tf\\nfrom sklearn import svm\\nimport numpy as np\\nimport altair as alt\\nimport torch\\nimport skimage\\nimport seaborn as sns\\nimport statistics\\nimport statsmodels.api as sm\\nimport nltk\\nfrom sklearn.model_selection import train_test_split\\nimport sklearn\\nfrom scipy import signal as sg\\nimport textblob'); }\n",
              "    "
            ]
          },
          "metadata": {}
        },
        {
          "output_type": "execute_result",
          "data": {
            "text/plain": [
              "<seaborn.axisgrid.FacetGrid at 0x7f3eb99fa590>"
            ]
          },
          "metadata": {},
          "execution_count": 59
        },
        {
          "output_type": "display_data",
          "data": {
            "text/plain": [
              "<Figure size 360x360 with 1 Axes>"
            ],
            "image/png": "[encoded data removed]"
          },
          "metadata": {
            "needs_background": "light"
          }
        }
      ]
    },
    {
      "cell_type": "code",
      "source": [
        "sns.distplot([4, 6, 2, 9])"
      ],
      "metadata": {
        "colab": {
          "base_uri": "https://localhost:8080/",
          "height": 336
        },
        "id": "9Q3yUSS1Ahk3",
        "outputId": "83e91e4f-1013-4fdb-b086-10a4b3732b50"
      },
      "execution_count": 60,
      "outputs": [
        {
          "output_type": "display_data",
          "data": {
            "text/plain": [
              "<IPython.core.display.Javascript object>"
            ],
            "application/javascript": [
              "\n",
              "        if (window._pyforest_update_imports_cell) { window._pyforest_update_imports_cell('import tqdm\\nimport pandas as pd\\nimport spacy\\nimport sys\\nfrom scipy import stats\\nimport matplotlib.pyplot as plt\\nimport tensorflow as tf\\nfrom sklearn import svm\\nimport numpy as np\\nimport altair as alt\\nimport torch\\nimport skimage\\nimport seaborn as sns\\nimport statistics\\nimport statsmodels.api as sm\\nimport nltk\\nfrom sklearn.model_selection import train_test_split\\nimport sklearn\\nfrom scipy import signal as sg\\nimport textblob'); }\n",
              "    "
            ]
          },
          "metadata": {}
        },
        {
          "output_type": "stream",
          "name": "stderr",
          "text": [
            "/usr/local/lib/python3.7/dist-packages/seaborn/distributions.py:2619: FutureWarning: `distplot` is a deprecated function and will be removed in a future version. Please adapt your code to use either `displot` (a figure-level function with similar flexibility) or `histplot` (an axes-level function for histograms).\n",
            "  warnings.warn(msg, FutureWarning)\n"
          ]
        },
        {
          "output_type": "execute_result",
          "data": {
            "text/plain": [
              "<matplotlib.axes._subplots.AxesSubplot at 0x7f3eb6f5b450>"
            ]
          },
          "metadata": {},
          "execution_count": 60
        },
        {
          "output_type": "display_data",
          "data": {
            "text/plain": [
              "<Figure size 432x288 with 1 Axes>"
            ],
            "image/png": "[encoded data removed]"
          },
          "metadata": {
            "needs_background": "light"
          }
        }
      ]
    },
    {
      "cell_type": "code",
      "source": [
        "active_imports()"
      ],
      "metadata": {
        "colab": {
          "base_uri": "https://localhost:8080/"
        },
        "id": "A7Ya-S1rAy8u",
        "outputId": "352689e3-92a4-4e70-ca98-dae7df71d7ad"
      },
      "execution_count": 61,
      "outputs": [
        {
          "output_type": "stream",
          "name": "stdout",
          "text": [
            "import tqdm\n",
            "import pandas as pd\n",
            "import spacy\n",
            "import sys\n",
            "from scipy import stats\n",
            "import matplotlib.pyplot as plt\n",
            "import tensorflow as tf\n",
            "from sklearn import svm\n",
            "import numpy as np\n",
            "import altair as alt\n",
            "import torch\n",
            "import skimage\n",
            "import seaborn as sns\n",
            "import statistics\n",
            "import statsmodels.api as sm\n",
            "import nltk\n",
            "from sklearn.model_selection import train_test_split\n",
            "import sklearn\n",
            "from scipy import signal as sg\n",
            "import textblob\n"
          ]
        },
        {
          "output_type": "execute_result",
          "data": {
            "text/plain": [
              "['import tqdm',\n",
              " 'import pandas as pd',\n",
              " 'import spacy',\n",
              " 'import sys',\n",
              " 'from scipy import stats',\n",
              " 'import matplotlib.pyplot as plt',\n",
              " 'import tensorflow as tf',\n",
              " 'from sklearn import svm',\n",
              " 'import numpy as np',\n",
              " 'import altair as alt',\n",
              " 'import torch',\n",
              " 'import skimage',\n",
              " 'import seaborn as sns',\n",
              " 'import statistics',\n",
              " 'import statsmodels.api as sm',\n",
              " 'import nltk',\n",
              " 'from sklearn.model_selection import train_test_split',\n",
              " 'import sklearn',\n",
              " 'from scipy import signal as sg',\n",
              " 'import textblob']"
            ]
          },
          "metadata": {},
          "execution_count": 61
        }
      ]
    },
    {
      "cell_type": "code",
      "source": [
        "class Car:\n",
        "  pass"
      ],
      "metadata": {
        "id": "LfRTOCrQBSG0"
      },
      "execution_count": 62,
      "outputs": []
    },
    {
      "cell_type": "code",
      "source": [
        "Car"
      ],
      "metadata": {
        "colab": {
          "base_uri": "https://localhost:8080/"
        },
        "id": "w486YwGnA4bP",
        "outputId": "1e23b65d-5713-4e15-a514-e94b9ea83339"
      },
      "execution_count": 63,
      "outputs": [
        {
          "output_type": "execute_result",
          "data": {
            "text/plain": [
              "__main__.Car"
            ]
          },
          "metadata": {},
          "execution_count": 63
        }
      ]
    },
    {
      "cell_type": "code",
      "source": [
        "car1 = Car()"
      ],
      "metadata": {
        "id": "DSItY3voBU66"
      },
      "execution_count": 64,
      "outputs": []
    },
    {
      "cell_type": "code",
      "source": [
        "car1"
      ],
      "metadata": {
        "colab": {
          "base_uri": "https://localhost:8080/"
        },
        "id": "vdggxLXPBpJu",
        "outputId": "71bf7224-d40f-4747-cdbc-b46303e103f7"
      },
      "execution_count": 65,
      "outputs": [
        {
          "output_type": "execute_result",
          "data": {
            "text/plain": [
              "<__main__.Car at 0x7f3ea90de5d0>"
            ]
          },
          "metadata": {},
          "execution_count": 65
        }
      ]
    },
    {
      "cell_type": "code",
      "source": [
        "car1.windows = 5\n",
        "car1.doors = 4"
      ],
      "metadata": {
        "id": "naRXi1VTBqK8"
      },
      "execution_count": 66,
      "outputs": []
    },
    {
      "cell_type": "code",
      "source": [
        "print(car1.windows)"
      ],
      "metadata": {
        "colab": {
          "base_uri": "https://localhost:8080/"
        },
        "id": "nUkdwq2TBwnf",
        "outputId": "258470dc-f8a9-4d90-f8d4-c82b79ff4262"
      },
      "execution_count": 67,
      "outputs": [
        {
          "output_type": "stream",
          "name": "stdout",
          "text": [
            "5\n"
          ]
        }
      ]
    },
    {
      "cell_type": "code",
      "source": [
        "car2 = Car()"
      ],
      "metadata": {
        "id": "lt3KDs8hB0_w"
      },
      "execution_count": 68,
      "outputs": []
    },
    {
      "cell_type": "code",
      "source": [
        "car2.type = \"Benz\"\n",
        "car2.cost = 80000"
      ],
      "metadata": {
        "id": "8SvfM4iuB25X"
      },
      "execution_count": 71,
      "outputs": []
    },
    {
      "cell_type": "code",
      "source": [
        "car2.cost"
      ],
      "metadata": {
        "colab": {
          "base_uri": "https://localhost:8080/"
        },
        "id": "t3VBRkIiB-1T",
        "outputId": "75adad29-eca2-4828-8970-46ca393c8dff"
      },
      "execution_count": 72,
      "outputs": [
        {
          "output_type": "execute_result",
          "data": {
            "text/plain": [
              "80000"
            ]
          },
          "metadata": {},
          "execution_count": 72
        }
      ]
    },
    {
      "cell_type": "code",
      "source": [
        "dir(car1)"
      ],
      "metadata": {
        "colab": {
          "base_uri": "https://localhost:8080/"
        },
        "id": "msW0Dy6dCBcL",
        "outputId": "86f1d1bf-e75d-405a-9bbb-86af7d8dd2b8"
      },
      "execution_count": 73,
      "outputs": [
        {
          "output_type": "execute_result",
          "data": {
            "text/plain": [
              "['__class__',\n",
              " '__delattr__',\n",
              " '__dict__',\n",
              " '__dir__',\n",
              " '__doc__',\n",
              " '__eq__',\n",
              " '__format__',\n",
              " '__ge__',\n",
              " '__getattribute__',\n",
              " '__gt__',\n",
              " '__hash__',\n",
              " '__init__',\n",
              " '__init_subclass__',\n",
              " '__le__',\n",
              " '__lt__',\n",
              " '__module__',\n",
              " '__ne__',\n",
              " '__new__',\n",
              " '__reduce__',\n",
              " '__reduce_ex__',\n",
              " '__repr__',\n",
              " '__setattr__',\n",
              " '__sizeof__',\n",
              " '__str__',\n",
              " '__subclasshook__',\n",
              " '__weakref__',\n",
              " 'doors',\n",
              " 'windows']"
            ]
          },
          "metadata": {},
          "execution_count": 73
        }
      ]
    },
    {
      "cell_type": "code",
      "source": [
        "class Car:\n",
        "  def __init__(self, window, door, enginetype):\n",
        "    self.window = window\n",
        "    self.door = door\n",
        "    self.enginetype = enginetype\n",
        "\n",
        "  def self_driving(self, enginetype):\n",
        "    return \"This is a {} car\".format(self.enginetype)"
      ],
      "metadata": {
        "id": "xugReOg3CJQY"
      },
      "execution_count": 85,
      "outputs": []
    },
    {
      "cell_type": "code",
      "source": [
        "car1 = Car(4, 5, \"Diesel\")"
      ],
      "metadata": {
        "id": "li_R-5gDCj6O"
      },
      "execution_count": 86,
      "outputs": []
    },
    {
      "cell_type": "code",
      "source": [
        "car2 = Car(3, 4, \"Petrol\")"
      ],
      "metadata": {
        "id": "PcZhwQ4_CrvG"
      },
      "execution_count": 87,
      "outputs": []
    },
    {
      "cell_type": "code",
      "source": [
        "car1.window"
      ],
      "metadata": {
        "colab": {
          "base_uri": "https://localhost:8080/"
        },
        "id": "zZr0valcDJ7I",
        "outputId": "da030332-84a5-4ed0-af2c-3dd96af4f248"
      },
      "execution_count": 88,
      "outputs": [
        {
          "output_type": "execute_result",
          "data": {
            "text/plain": [
              "4"
            ]
          },
          "metadata": {},
          "execution_count": 88
        }
      ]
    },
    {
      "cell_type": "code",
      "source": [
        "car2.enginetype"
      ],
      "metadata": {
        "colab": {
          "base_uri": "https://localhost:8080/",
          "height": 37
        },
        "id": "0MBQn5UmDMW1",
        "outputId": "59d55467-5b7c-4b7b-8654-e36c491398fb"
      },
      "execution_count": 89,
      "outputs": [
        {
          "output_type": "execute_result",
          "data": {
            "text/plain": [
              "'Petrol'"
            ],
            "application/vnd.google.colaboratory.intrinsic+json": {
              "type": "string"
            }
          },
          "metadata": {},
          "execution_count": 89
        }
      ]
    },
    {
      "cell_type": "code",
      "source": [
        "a = 10"
      ],
      "metadata": {
        "id": "Bb-cUTSiDQaQ"
      },
      "execution_count": 92,
      "outputs": []
    },
    {
      "cell_type": "code",
      "source": [
        "try:\n",
        "  a = b\n",
        "except Exception as ex:\n",
        "  print(ex)"
      ],
      "metadata": {
        "colab": {
          "base_uri": "https://localhost:8080/"
        },
        "id": "v-9W01HiIUoV",
        "outputId": "ccbebdf8-0834-4240-ea19-2afd2400581a"
      },
      "execution_count": 99,
      "outputs": [
        {
          "output_type": "stream",
          "name": "stdout",
          "text": [
            "name 'b' is not defined\n"
          ]
        }
      ]
    },
    {
      "cell_type": "code",
      "source": [
        "from prompt_toolkit.renderer import print_formatted_text\n",
        "try:\n",
        "  a = int(input(\"Enter thenumber 1 \"))\n",
        "  b = int(input(\"Enter the number 2 \"))\n",
        "  c = a/b\n",
        "  d = a/0\n",
        "  e = a ++ b\n",
        "except NameError:\n",
        "  print(\"The used have not defined the variable\")\n",
        "except ZeroDivisionError:\n",
        "  print(\"Please provide number greater than 0\")\n",
        "except TypeError:\n",
        "  print(\"Try to make the datatype similar\")\n",
        "except Exception as ex:\n",
        "  print(ex)\n",
        "else:\n",
        "  print(c)\n",
        "finally:\n",
        "  print(\"The execution is done\")"
      ],
      "metadata": {
        "colab": {
          "base_uri": "https://localhost:8080/"
        },
        "id": "0fdO5K3NIVkT",
        "outputId": "a2362067-6133-4222-8b4c-e950f7282c7d"
      },
      "execution_count": 102,
      "outputs": [
        {
          "output_type": "stream",
          "name": "stdout",
          "text": [
            "Enter thenumber 1 3\n",
            "Enter the number 2 1/7\n",
            "invalid literal for int() with base 10: '1/7'\n",
            "The execution is done\n"
          ]
        }
      ]
    },
    {
      "cell_type": "code",
      "source": [
        "class Error(Exception):\n",
        "  pass\n",
        "class dobException(Error):\n",
        "  pass\n",
        "class customgeneric(Error):\n",
        "  pass"
      ],
      "metadata": {
        "id": "UkgOBx9wMf8V"
      },
      "execution_count": 105,
      "outputs": []
    },
    {
      "cell_type": "code",
      "source": [
        "year = int(input(\"Enter the year of Birth\"))\n",
        "age = 2022 - year\n",
        "try:\n",
        "  if age <= 30 & age > 20:\n",
        "    print(\"The age is valid. You can apply for the exams\")\n",
        "  else:\n",
        "    raise dobException\n",
        "except dobException:\n",
        "  print(\"The year age is not within the range. You cannot apply for the exams\")"
      ],
      "metadata": {
        "colab": {
          "base_uri": "https://localhost:8080/"
        },
        "id": "EVybI7BlNvAA",
        "outputId": "6dc1eb4e-8c83-440c-e75f-982a98303dd8"
      },
      "execution_count": 106,
      "outputs": [
        {
          "output_type": "stream",
          "name": "stdout",
          "text": [
            "Enter the year of Birth1989\n",
            "The year age is not within the range. You cannot apply for the exams\n"
          ]
        }
      ]
    },
    {
      "cell_type": "code",
      "source": [
        "# All the class variables are public\n",
        "class Car():\n",
        "  def __init__(self, window, door, enginetype):\n",
        "    self.window = window\n",
        "    self.door = door\n",
        "    self.enginetype = enginetype"
      ],
      "metadata": {
        "id": "2r6FDUslObgE"
      },
      "execution_count": 107,
      "outputs": []
    },
    {
      "cell_type": "code",
      "source": [
        "# All the class variables are protected\n",
        "class Car():\n",
        "  def __init__(self, window, door, enginetype):\n",
        "    self._window = window\n",
        "    self._door = door\n",
        "    self._enginetype = enginetype"
      ],
      "metadata": {
        "id": "oFxuGYHoPpfl"
      },
      "execution_count": 108,
      "outputs": []
    },
    {
      "cell_type": "code",
      "source": [
        "audi = Car(4, 4, \"Diesel\")"
      ],
      "metadata": {
        "id": "rGNFoc-VPwo2"
      },
      "execution_count": 109,
      "outputs": []
    },
    {
      "cell_type": "code",
      "source": [
        "dir(audi)"
      ],
      "metadata": {
        "colab": {
          "base_uri": "https://localhost:8080/"
        },
        "id": "GjaUonV5Pzps",
        "outputId": "88d14e9d-3e4c-4bab-e348-e0403225d531"
      },
      "execution_count": 110,
      "outputs": [
        {
          "output_type": "execute_result",
          "data": {
            "text/plain": [
              "['__class__',\n",
              " '__delattr__',\n",
              " '__dict__',\n",
              " '__dir__',\n",
              " '__doc__',\n",
              " '__eq__',\n",
              " '__format__',\n",
              " '__ge__',\n",
              " '__getattribute__',\n",
              " '__gt__',\n",
              " '__hash__',\n",
              " '__init__',\n",
              " '__init_subclass__',\n",
              " '__le__',\n",
              " '__lt__',\n",
              " '__module__',\n",
              " '__ne__',\n",
              " '__new__',\n",
              " '__reduce__',\n",
              " '__reduce_ex__',\n",
              " '__repr__',\n",
              " '__setattr__',\n",
              " '__sizeof__',\n",
              " '__str__',\n",
              " '__subclasshook__',\n",
              " '__weakref__',\n",
              " '_door',\n",
              " '_enginetype',\n",
              " '_window']"
            ]
          },
          "metadata": {},
          "execution_count": 110
        }
      ]
    },
    {
      "cell_type": "code",
      "source": [
        "class Truck(Car):\n",
        "  def __init__(self, windows, doors, enginetype, horsepower):\n",
        "    super().__init__(windows, doors, enginetype)\n",
        "    self.horsepower = horsepower"
      ],
      "metadata": {
        "id": "w8PwPoX9P03j"
      },
      "execution_count": 111,
      "outputs": []
    },
    {
      "cell_type": "code",
      "source": [
        "##Private\n",
        "class Car():\n",
        "  def __init__(self, windows, doors, enginetype):\n",
        "    self.__windows = windows\n",
        "    self.__doors = doors\n",
        "    self.__enginetype = enginetype"
      ],
      "metadata": {
        "id": "uHOy-mrkQpEU"
      },
      "execution_count": 113,
      "outputs": []
    },
    {
      "cell_type": "code",
      "source": [
        "class Car():\n",
        "  def __init__(self, windows, doors, enginetype):\n",
        "    self.windows = windows\n",
        "    self.doors = doors\n",
        "    self.enginetype = enginetype\n",
        "  def drive(self):\n",
        "    print(\"The person drives the car\")"
      ],
      "metadata": {
        "id": "30rzt5NMRA8d"
      },
      "execution_count": 120,
      "outputs": []
    },
    {
      "cell_type": "code",
      "source": [
        "car = Car(4, 5, \"Diesel\")"
      ],
      "metadata": {
        "id": "Oiz-qq6RRxi6"
      },
      "execution_count": 121,
      "outputs": []
    },
    {
      "cell_type": "code",
      "source": [
        "car.drive()"
      ],
      "metadata": {
        "colab": {
          "base_uri": "https://localhost:8080/"
        },
        "id": "v-cDmdO8R1tv",
        "outputId": "d1c575a1-4559-4207-a3a3-850014b674ab"
      },
      "execution_count": 122,
      "outputs": [
        {
          "output_type": "stream",
          "name": "stdout",
          "text": [
            "The person drives the car\n"
          ]
        }
      ]
    },
    {
      "cell_type": "code",
      "source": [
        "class audi(Car):\n",
        "  def __init__(self, windows, doors, enginetype, enableai):\n",
        "    super().__init__(windows, doors, enginetype)\n",
        "    self.enableai = enableai\n",
        "  def selfdriving(self):\n",
        "    print(\"Audi supports Self driving\")"
      ],
      "metadata": {
        "id": "Y3jpmPiYR3dv"
      },
      "execution_count": 123,
      "outputs": []
    },
    {
      "cell_type": "code",
      "source": [
        "audiQ7 = audi(5, 5, \"Petrol\", True)"
      ],
      "metadata": {
        "id": "V3dCoOfeShi8"
      },
      "execution_count": 125,
      "outputs": []
    },
    {
      "cell_type": "code",
      "source": [],
      "metadata": {
        "id": "K95PYIPZSmaj"
      },
      "execution_count": null,
      "outputs": []
    }
  ]
}