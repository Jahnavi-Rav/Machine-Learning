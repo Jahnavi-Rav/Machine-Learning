{
  "nbformat": 4,
  "nbformat_minor": 0,
  "metadata": {
    "colab": {
      "provenance": [],
      "collapsed_sections": []
    },
    "kernelspec": {
      "name": "python3",
      "display_name": "Python 3"
    },
    "language_info": {
      "name": "python"
    }
  },
  "cells": [
    {
      "cell_type": "code",
      "execution_count": 61,
      "metadata": {
        "id": "TMkibgVJCieO"
      },
      "outputs": [],
      "source": [
        "import numpy as np\n",
        "import pandas as pd\n",
        "import matplotlib.pyplot as plt"
      ]
    },
    {
      "cell_type": "code",
      "source": [
        "data = pd.read_csv(\"housing.data\", delim_whitespace=True, header = None)"
      ],
      "metadata": {
        "id": "82lNGfLmCoVU"
      },
      "execution_count": 62,
      "outputs": []
    },
    {
      "cell_type": "code",
      "source": [
        "data.head(2)"
      ],
      "metadata": {
        "colab": {
          "base_uri": "https://localhost:8080/",
          "height": 175
        },
        "id": "wZnF_qoWCtua",
        "outputId": "43c3d162-9ee7-4129-fb89-1926366d7c3c"
      },
      "execution_count": 63,
      "outputs": [
        {
          "output_type": "execute_result",
          "data": {
            "text/plain": [
              "        0     1     2   3      4      5   ...  8      9     10     11    12    13\n",
              "0  0.00632  18.0  2.31   0  0.538  6.575  ...   1  296.0  15.3  396.9  4.98  24.0\n",
              "1  0.02731   0.0  7.07   0  0.469  6.421  ...   2  242.0  17.8  396.9  9.14  21.6\n",
              "\n",
              "[2 rows x 14 columns]"
            ],
            "text/html": [
              "\n",
              "  <div id=\"df-fd0c283b-e32d-4d57-b829-0151a2c2eff7\">\n",
              "    <div class=\"colab-df-container\">\n",
              "      <div>\n",
              "<style scoped>\n",
              "    .dataframe tbody tr th:only-of-type {\n",
              "        vertical-align: middle;\n",
              "    }\n",
              "\n",
              "    .dataframe tbody tr th {\n",
              "        vertical-align: top;\n",
              "    }\n",
              "\n",
              "    .dataframe thead th {\n",
              "        text-align: right;\n",
              "    }\n",
              "</style>\n",
              "<table border=\"1\" class=\"dataframe\">\n",
              "  <thead>\n",
              "    <tr style=\"text-align: right;\">\n",
              "      <th></th>\n",
              "      <th>0</th>\n",
              "      <th>1</th>\n",
              "      <th>2</th>\n",
              "      <th>3</th>\n",
              "      <th>4</th>\n",
              "      <th>5</th>\n",
              "      <th>6</th>\n",
              "      <th>7</th>\n",
              "      <th>8</th>\n",
              "      <th>9</th>\n",
              "      <th>10</th>\n",
              "      <th>11</th>\n",
              "      <th>12</th>\n",
              "      <th>13</th>\n",
              "    </tr>\n",
              "  </thead>\n",
              "  <tbody>\n",
              "    <tr>\n",
              "      <th>0</th>\n",
              "      <td>0.00632</td>\n",
              "      <td>18.0</td>\n",
              "      <td>2.31</td>\n",
              "      <td>0</td>\n",
              "      <td>0.538</td>\n",
              "      <td>6.575</td>\n",
              "      <td>65.2</td>\n",
              "      <td>4.0900</td>\n",
              "      <td>1</td>\n",
              "      <td>296.0</td>\n",
              "      <td>15.3</td>\n",
              "      <td>396.9</td>\n",
              "      <td>4.98</td>\n",
              "      <td>24.0</td>\n",
              "    </tr>\n",
              "    <tr>\n",
              "      <th>1</th>\n",
              "      <td>0.02731</td>\n",
              "      <td>0.0</td>\n",
              "      <td>7.07</td>\n",
              "      <td>0</td>\n",
              "      <td>0.469</td>\n",
              "      <td>6.421</td>\n",
              "      <td>78.9</td>\n",
              "      <td>4.9671</td>\n",
              "      <td>2</td>\n",
              "      <td>242.0</td>\n",
              "      <td>17.8</td>\n",
              "      <td>396.9</td>\n",
              "      <td>9.14</td>\n",
              "      <td>21.6</td>\n",
              "    </tr>\n",
              "  </tbody>\n",
              "</table>\n",
              "</div>\n",
              "      <button class=\"colab-df-convert\" onclick=\"convertToInteractive('df-fd0c283b-e32d-4d57-b829-0151a2c2eff7')\"\n",
              "              title=\"Convert this dataframe to an interactive table.\"\n",
              "              style=\"display:none;\">\n",
              "        \n",
              "  <svg xmlns=\"http://www.w3.org/2000/svg\" height=\"24px\"viewBox=\"0 0 24 24\"\n",
              "       width=\"24px\">\n",
              "    <path d=\"M0 0h24v24H0V0z\" fill=\"none\"/>\n",
              "    <path d=\"M18.56 5.44l.94 2.06.94-2.06 2.06-.94-2.06-.94-.94-2.06-.94 2.06-2.06.94zm-11 1L8.5 8.5l.94-2.06 2.06-.94-2.06-.94L8.5 2.5l-.94 2.06-2.06.94zm10 10l.94 2.06.94-2.06 2.06-.94-2.06-.94-.94-2.06-.94 2.06-2.06.94z\"/><path d=\"M17.41 7.96l-1.37-1.37c-.4-.4-.92-.59-1.43-.59-.52 0-1.04.2-1.43.59L10.3 9.45l-7.72 7.72c-.78.78-.78 2.05 0 2.83L4 21.41c.39.39.9.59 1.41.59.51 0 1.02-.2 1.41-.59l7.78-7.78 2.81-2.81c.8-.78.8-2.07 0-2.86zM5.41 20L4 18.59l7.72-7.72 1.47 1.35L5.41 20z\"/>\n",
              "  </svg>\n",
              "      </button>\n",
              "      \n",
              "  <style>\n",
              "    .colab-df-container {\n",
              "      display:flex;\n",
              "      flex-wrap:wrap;\n",
              "      gap: 12px;\n",
              "    }\n",
              "\n",
              "    .colab-df-convert {\n",
              "      background-color: #E8F0FE;\n",
              "      border: none;\n",
              "      border-radius: 50%;\n",
              "      cursor: pointer;\n",
              "      display: none;\n",
              "      fill: #1967D2;\n",
              "      height: 32px;\n",
              "      padding: 0 0 0 0;\n",
              "      width: 32px;\n",
              "    }\n",
              "\n",
              "    .colab-df-convert:hover {\n",
              "      background-color: #E2EBFA;\n",
              "      box-shadow: 0px 1px 2px rgba(60, 64, 67, 0.3), 0px 1px 3px 1px rgba(60, 64, 67, 0.15);\n",
              "      fill: #174EA6;\n",
              "    }\n",
              "\n",
              "    [theme=dark] .colab-df-convert {\n",
              "      background-color: #3B4455;\n",
              "      fill: #D2E3FC;\n",
              "    }\n",
              "\n",
              "    [theme=dark] .colab-df-convert:hover {\n",
              "      background-color: #434B5C;\n",
              "      box-shadow: 0px 1px 3px 1px rgba(0, 0, 0, 0.15);\n",
              "      filter: drop-shadow(0px 1px 2px rgba(0, 0, 0, 0.3));\n",
              "      fill: #FFFFFF;\n",
              "    }\n",
              "  </style>\n",
              "\n",
              "      <script>\n",
              "        const buttonEl =\n",
              "          document.querySelector('#df-fd0c283b-e32d-4d57-b829-0151a2c2eff7 button.colab-df-convert');\n",
              "        buttonEl.style.display =\n",
              "          google.colab.kernel.accessAllowed ? 'block' : 'none';\n",
              "\n",
              "        async function convertToInteractive(key) {\n",
              "          const element = document.querySelector('#df-fd0c283b-e32d-4d57-b829-0151a2c2eff7');\n",
              "          const dataTable =\n",
              "            await google.colab.kernel.invokeFunction('convertToInteractive',\n",
              "                                                     [key], {});\n",
              "          if (!dataTable) return;\n",
              "\n",
              "          const docLinkHtml = 'Like what you see? Visit the ' +\n",
              "            '<a target=\"_blank\" href=https://colab.research.google.com/notebooks/data_table.ipynb>data table notebook</a>'\n",
              "            + ' to learn more about interactive tables.';\n",
              "          element.innerHTML = '';\n",
              "          dataTable['output_type'] = 'display_data';\n",
              "          await google.colab.output.renderOutput(dataTable, element);\n",
              "          const docLink = document.createElement('div');\n",
              "          docLink.innerHTML = docLinkHtml;\n",
              "          element.appendChild(docLink);\n",
              "        }\n",
              "      </script>\n",
              "    </div>\n",
              "  </div>\n",
              "  "
            ]
          },
          "metadata": {},
          "execution_count": 63
        }
      ]
    },
    {
      "cell_type": "code",
      "source": [
        "data.columns = [\"CRIM\", 'ZN', 'INDUS', 'CHAS', 'NOX', 'RM', 'AGE', 'DIS', 'RAD', 'TAX', 'PTRATIO', 'B', 'LSTAT', 'MEDV']"
      ],
      "metadata": {
        "id": "qBEe1KtMCy6H"
      },
      "execution_count": 64,
      "outputs": []
    },
    {
      "cell_type": "code",
      "source": [
        "data.head(2)"
      ],
      "metadata": {
        "colab": {
          "base_uri": "https://localhost:8080/",
          "height": 175
        },
        "id": "l3F07FCIRFsr",
        "outputId": "4a442e43-9543-40c2-c472-f4aabd9c70ea"
      },
      "execution_count": 66,
      "outputs": [
        {
          "output_type": "execute_result",
          "data": {
            "text/plain": [
              "      CRIM    ZN  INDUS  CHAS    NOX  ...    TAX  PTRATIO      B  LSTAT  MEDV\n",
              "0  0.00632  18.0   2.31     0  0.538  ...  296.0     15.3  396.9   4.98  24.0\n",
              "1  0.02731   0.0   7.07     0  0.469  ...  242.0     17.8  396.9   9.14  21.6\n",
              "\n",
              "[2 rows x 14 columns]"
            ],
            "text/html": [
              "\n",
              "  <div id=\"df-650fee34-24d7-4b1c-8dda-ea6c411b6e6f\">\n",
              "    <div class=\"colab-df-container\">\n",
              "      <div>\n",
              "<style scoped>\n",
              "    .dataframe tbody tr th:only-of-type {\n",
              "        vertical-align: middle;\n",
              "    }\n",
              "\n",
              "    .dataframe tbody tr th {\n",
              "        vertical-align: top;\n",
              "    }\n",
              "\n",
              "    .dataframe thead th {\n",
              "        text-align: right;\n",
              "    }\n",
              "</style>\n",
              "<table border=\"1\" class=\"dataframe\">\n",
              "  <thead>\n",
              "    <tr style=\"text-align: right;\">\n",
              "      <th></th>\n",
              "      <th>CRIM</th>\n",
              "      <th>ZN</th>\n",
              "      <th>INDUS</th>\n",
              "      <th>CHAS</th>\n",
              "      <th>NOX</th>\n",
              "      <th>RM</th>\n",
              "      <th>AGE</th>\n",
              "      <th>DIS</th>\n",
              "      <th>RAD</th>\n",
              "      <th>TAX</th>\n",
              "      <th>PTRATIO</th>\n",
              "      <th>B</th>\n",
              "      <th>LSTAT</th>\n",
              "      <th>MEDV</th>\n",
              "    </tr>\n",
              "  </thead>\n",
              "  <tbody>\n",
              "    <tr>\n",
              "      <th>0</th>\n",
              "      <td>0.00632</td>\n",
              "      <td>18.0</td>\n",
              "      <td>2.31</td>\n",
              "      <td>0</td>\n",
              "      <td>0.538</td>\n",
              "      <td>6.575</td>\n",
              "      <td>65.2</td>\n",
              "      <td>4.0900</td>\n",
              "      <td>1</td>\n",
              "      <td>296.0</td>\n",
              "      <td>15.3</td>\n",
              "      <td>396.9</td>\n",
              "      <td>4.98</td>\n",
              "      <td>24.0</td>\n",
              "    </tr>\n",
              "    <tr>\n",
              "      <th>1</th>\n",
              "      <td>0.02731</td>\n",
              "      <td>0.0</td>\n",
              "      <td>7.07</td>\n",
              "      <td>0</td>\n",
              "      <td>0.469</td>\n",
              "      <td>6.421</td>\n",
              "      <td>78.9</td>\n",
              "      <td>4.9671</td>\n",
              "      <td>2</td>\n",
              "      <td>242.0</td>\n",
              "      <td>17.8</td>\n",
              "      <td>396.9</td>\n",
              "      <td>9.14</td>\n",
              "      <td>21.6</td>\n",
              "    </tr>\n",
              "  </tbody>\n",
              "</table>\n",
              "</div>\n",
              "      <button class=\"colab-df-convert\" onclick=\"convertToInteractive('df-650fee34-24d7-4b1c-8dda-ea6c411b6e6f')\"\n",
              "              title=\"Convert this dataframe to an interactive table.\"\n",
              "              style=\"display:none;\">\n",
              "        \n",
              "  <svg xmlns=\"http://www.w3.org/2000/svg\" height=\"24px\"viewBox=\"0 0 24 24\"\n",
              "       width=\"24px\">\n",
              "    <path d=\"M0 0h24v24H0V0z\" fill=\"none\"/>\n",
              "    <path d=\"M18.56 5.44l.94 2.06.94-2.06 2.06-.94-2.06-.94-.94-2.06-.94 2.06-2.06.94zm-11 1L8.5 8.5l.94-2.06 2.06-.94-2.06-.94L8.5 2.5l-.94 2.06-2.06.94zm10 10l.94 2.06.94-2.06 2.06-.94-2.06-.94-.94-2.06-.94 2.06-2.06.94z\"/><path d=\"M17.41 7.96l-1.37-1.37c-.4-.4-.92-.59-1.43-.59-.52 0-1.04.2-1.43.59L10.3 9.45l-7.72 7.72c-.78.78-.78 2.05 0 2.83L4 21.41c.39.39.9.59 1.41.59.51 0 1.02-.2 1.41-.59l7.78-7.78 2.81-2.81c.8-.78.8-2.07 0-2.86zM5.41 20L4 18.59l7.72-7.72 1.47 1.35L5.41 20z\"/>\n",
              "  </svg>\n",
              "      </button>\n",
              "      \n",
              "  <style>\n",
              "    .colab-df-container {\n",
              "      display:flex;\n",
              "      flex-wrap:wrap;\n",
              "      gap: 12px;\n",
              "    }\n",
              "\n",
              "    .colab-df-convert {\n",
              "      background-color: #E8F0FE;\n",
              "      border: none;\n",
              "      border-radius: 50%;\n",
              "      cursor: pointer;\n",
              "      display: none;\n",
              "      fill: #1967D2;\n",
              "      height: 32px;\n",
              "      padding: 0 0 0 0;\n",
              "      width: 32px;\n",
              "    }\n",
              "\n",
              "    .colab-df-convert:hover {\n",
              "      background-color: #E2EBFA;\n",
              "      box-shadow: 0px 1px 2px rgba(60, 64, 67, 0.3), 0px 1px 3px 1px rgba(60, 64, 67, 0.15);\n",
              "      fill: #174EA6;\n",
              "    }\n",
              "\n",
              "    [theme=dark] .colab-df-convert {\n",
              "      background-color: #3B4455;\n",
              "      fill: #D2E3FC;\n",
              "    }\n",
              "\n",
              "    [theme=dark] .colab-df-convert:hover {\n",
              "      background-color: #434B5C;\n",
              "      box-shadow: 0px 1px 3px 1px rgba(0, 0, 0, 0.15);\n",
              "      filter: drop-shadow(0px 1px 2px rgba(0, 0, 0, 0.3));\n",
              "      fill: #FFFFFF;\n",
              "    }\n",
              "  </style>\n",
              "\n",
              "      <script>\n",
              "        const buttonEl =\n",
              "          document.querySelector('#df-650fee34-24d7-4b1c-8dda-ea6c411b6e6f button.colab-df-convert');\n",
              "        buttonEl.style.display =\n",
              "          google.colab.kernel.accessAllowed ? 'block' : 'none';\n",
              "\n",
              "        async function convertToInteractive(key) {\n",
              "          const element = document.querySelector('#df-650fee34-24d7-4b1c-8dda-ea6c411b6e6f');\n",
              "          const dataTable =\n",
              "            await google.colab.kernel.invokeFunction('convertToInteractive',\n",
              "                                                     [key], {});\n",
              "          if (!dataTable) return;\n",
              "\n",
              "          const docLinkHtml = 'Like what you see? Visit the ' +\n",
              "            '<a target=\"_blank\" href=https://colab.research.google.com/notebooks/data_table.ipynb>data table notebook</a>'\n",
              "            + ' to learn more about interactive tables.';\n",
              "          element.innerHTML = '';\n",
              "          dataTable['output_type'] = 'display_data';\n",
              "          await google.colab.output.renderOutput(dataTable, element);\n",
              "          const docLink = document.createElement('div');\n",
              "          docLink.innerHTML = docLinkHtml;\n",
              "          element.appendChild(docLink);\n",
              "        }\n",
              "      </script>\n",
              "    </div>\n",
              "  </div>\n",
              "  "
            ]
          },
          "metadata": {},
          "execution_count": 66
        }
      ]
    },
    {
      "cell_type": "code",
      "source": [
        "X = data.iloc[:, :-1]\n",
        "y = data.iloc[:, -1]"
      ],
      "metadata": {
        "id": "EPKHDJ4RGQLg"
      },
      "execution_count": 67,
      "outputs": []
    },
    {
      "cell_type": "code",
      "source": [
        "print(X); print(y)"
      ],
      "metadata": {
        "colab": {
          "base_uri": "https://localhost:8080/"
        },
        "id": "fYUXHKLaQp6_",
        "outputId": "c49de84d-4f8a-4480-d79f-1b420d9ab064"
      },
      "execution_count": 69,
      "outputs": [
        {
          "output_type": "stream",
          "name": "stdout",
          "text": [
            "        CRIM    ZN  INDUS  CHAS    NOX  ...  RAD    TAX  PTRATIO       B  LSTAT\n",
            "0    0.00632  18.0   2.31     0  0.538  ...    1  296.0     15.3  396.90   4.98\n",
            "1    0.02731   0.0   7.07     0  0.469  ...    2  242.0     17.8  396.90   9.14\n",
            "2    0.02729   0.0   7.07     0  0.469  ...    2  242.0     17.8  392.83   4.03\n",
            "3    0.03237   0.0   2.18     0  0.458  ...    3  222.0     18.7  394.63   2.94\n",
            "4    0.06905   0.0   2.18     0  0.458  ...    3  222.0     18.7  396.90   5.33\n",
            "..       ...   ...    ...   ...    ...  ...  ...    ...      ...     ...    ...\n",
            "501  0.06263   0.0  11.93     0  0.573  ...    1  273.0     21.0  391.99   9.67\n",
            "502  0.04527   0.0  11.93     0  0.573  ...    1  273.0     21.0  396.90   9.08\n",
            "503  0.06076   0.0  11.93     0  0.573  ...    1  273.0     21.0  396.90   5.64\n",
            "504  0.10959   0.0  11.93     0  0.573  ...    1  273.0     21.0  393.45   6.48\n",
            "505  0.04741   0.0  11.93     0  0.573  ...    1  273.0     21.0  396.90   7.88\n",
            "\n",
            "[506 rows x 13 columns]\n",
            "0      24.0\n",
            "1      21.6\n",
            "2      34.7\n",
            "3      33.4\n",
            "4      36.2\n",
            "       ... \n",
            "501    22.4\n",
            "502    20.6\n",
            "503    23.9\n",
            "504    22.0\n",
            "505    11.9\n",
            "Name: MEDV, Length: 506, dtype: float64\n"
          ]
        }
      ]
    },
    {
      "cell_type": "markdown",
      "source": [
        "Linear Regression"
      ],
      "metadata": {
        "id": "DvyVfvx1RjWm"
      }
    },
    {
      "cell_type": "code",
      "source": [
        "from sklearn.linear_model import LinearRegression\n",
        "from sklearn.model_selection import cross_val_score"
      ],
      "metadata": {
        "id": "bpjkMYGARcKw"
      },
      "execution_count": 70,
      "outputs": []
    },
    {
      "cell_type": "code",
      "source": [
        "model = LinearRegression()\n",
        "mse = cross_val_score(model, X, y, scoring = 'neg_mean_squared_error', cv = 5)\n",
        "mean_mse = np.mean(mse)\n",
        "print(mean_mse)"
      ],
      "metadata": {
        "colab": {
          "base_uri": "https://localhost:8080/"
        },
        "id": "T-8zEeWvSGKc",
        "outputId": "9e2ce910-1db8-47a5-c98a-f3d96a741849"
      },
      "execution_count": 78,
      "outputs": [
        {
          "output_type": "stream",
          "name": "stdout",
          "text": [
            "-37.13180746769886\n"
          ]
        }
      ]
    },
    {
      "cell_type": "markdown",
      "source": [
        "Ridge Regression"
      ],
      "metadata": {
        "id": "jSA0FXuXS45D"
      }
    },
    {
      "cell_type": "code",
      "source": [
        "from sklearn.linear_model import Ridge\n",
        "from sklearn.model_selection import GridSearchCV"
      ],
      "metadata": {
        "id": "T2UuR4UmScvP"
      },
      "execution_count": 80,
      "outputs": []
    },
    {
      "cell_type": "code",
      "source": [
        "ridge = Ridge()\n",
        "parameters = {'alpha': [140, 150, 160, 170, 180, 190, 200, 210, 220, 230]}\n",
        "ridge_regressor = GridSearchCV(ridge, parameters, scoring = 'neg_mean_squared_error', cv = 5)\n",
        "ridge_regressor.fit(X, y)\n",
        "print(ridge_regressor.best_params_)\n",
        "print(ridge_regressor.best_score_)"
      ],
      "metadata": {
        "colab": {
          "base_uri": "https://localhost:8080/"
        },
        "id": "ehhoCQzmTFQd",
        "outputId": "79aec605-44d9-4cdb-af23-bbafecfba578"
      },
      "execution_count": 86,
      "outputs": [
        {
          "output_type": "stream",
          "name": "stdout",
          "text": [
            "{'alpha': 150}\n",
            "-29.753617234142645\n"
          ]
        }
      ]
    },
    {
      "cell_type": "markdown",
      "source": [
        "Lasso Regression"
      ],
      "metadata": {
        "id": "MdRpFwB2UQqQ"
      }
    },
    {
      "cell_type": "code",
      "source": [
        "from sklearn.linear_model import Lasso"
      ],
      "metadata": {
        "id": "OGY-Dr6tT5tw"
      },
      "execution_count": 88,
      "outputs": []
    },
    {
      "cell_type": "code",
      "source": [
        "lasso = Lasso()\n",
        "parameters = {'alpha': [1e-5, 1e-4, 1e-3, 1e-2, 1e-1, 1, 20, 50, 100, 140, 150]}\n",
        "lasso_regressor = GridSearchCV(lasso, parameters, scoring = 'neg_mean_squared_error', cv = 5)\n",
        "lasso_regressor.fit(X, y)\n",
        "print(lasso_regressor.best_params_)\n",
        "print(lasso_regressor.best_score_)"
      ],
      "metadata": {
        "colab": {
          "base_uri": "https://localhost:8080/"
        },
        "id": "BuhBBSLVUgn3",
        "outputId": "185d0b89-650f-4a21-e961-0b5ea90d47b9"
      },
      "execution_count": 107,
      "outputs": [
        {
          "output_type": "stream",
          "name": "stdout",
          "text": [
            "{'alpha': 0.1}\n",
            "-34.830432318202654\n"
          ]
        }
      ]
    },
    {
      "cell_type": "code",
      "source": [
        "from sklearn.model_selection import train_test_split\n",
        "X_train, X_test, y_train, y_test = train_test_split(X, y, test_size = 0.3)"
      ],
      "metadata": {
        "id": "idhUoxhDVFgY"
      },
      "execution_count": 109,
      "outputs": []
    },
    {
      "cell_type": "code",
      "source": [
        "prediction_lasso = lasso_regressor.predict(X_test)\n",
        "prediction_ridge = ridge_regressor.predict(X_test)"
      ],
      "metadata": {
        "id": "pnnspYyrW1eN"
      },
      "execution_count": 110,
      "outputs": []
    },
    {
      "cell_type": "code",
      "source": [
        "print(prediction_lasso)\n",
        "print(prediction_ridge)"
      ],
      "metadata": {
        "colab": {
          "base_uri": "https://localhost:8080/"
        },
        "id": "b_zc-glLXG3L",
        "outputId": "7f1975cf-6579-4fe5-fd16-0a430604bcef"
      },
      "execution_count": 111,
      "outputs": [
        {
          "output_type": "stream",
          "name": "stdout",
          "text": [
            "[ 7.73444408 24.84053318 23.56335754 32.37376537 20.25573173 42.34262526\n",
            " 26.14741284 33.11849852 24.6101073  22.80177981 23.63495568 27.58091757\n",
            " 24.20003509 36.99153503 30.64943922 21.98571194 24.32349343 25.70890485\n",
            " 29.8097653  17.99031842 18.08078496 30.73155669 30.58507058 21.05834311\n",
            " 28.35412417 22.63643419 15.14402905 26.77362796  5.24218065 30.93940528\n",
            " 26.05334624 28.25155324 19.79577835 16.89130126 11.72541305 17.08679301\n",
            " 29.58207429 31.03837603 44.21688784 20.68266652 28.12419927  9.35901677\n",
            " 16.28123493 33.43754108 26.26595225 28.51231331 23.44704398 34.26748774\n",
            " 21.95508915 24.06872679 24.92342688 20.0010735  21.13273862 28.23474487\n",
            " 10.83436335 15.06352007 13.32755188 15.40638066 14.06250658 20.25347499\n",
            " 21.30571661 11.74695729 25.70726916 21.99588736 23.13919652 10.4066809\n",
            " 13.50040719 16.03626534 14.1676049  17.68499854 36.86563539 15.28008081\n",
            " 32.68517192 18.69503342 28.01009048 25.22002517 18.60137811 15.33201919\n",
            " 24.60352872 30.8708505  13.43027074 21.73526938 22.33515204 29.03403564\n",
            " 18.87146975 23.39158737 14.05468032 35.65091312 27.94592233 18.70519194\n",
            " 20.65366705 40.82001047 14.11765565 19.34587092 26.53856925 29.97286183\n",
            " 18.28602962 16.30559795 10.72676634 27.55916239 24.43559067 25.53845513\n",
            " 18.90886243 24.16026869 32.1002183  21.61871322 17.79735429 12.42619707\n",
            " 21.42511479 37.31028907 19.00804164 21.4970487  25.68214459 24.55278533\n",
            " 23.6240724  29.69187556 36.98075133 20.93626755 32.28142125 20.75544316\n",
            " 30.39528004 17.38678969 15.06373595 24.98832708 25.31160434 20.45350323\n",
            " 18.89901219 13.13036401 13.64499983 12.63116421 16.84895317 13.96619842\n",
            " 14.6117266  26.86537284 18.92770936 22.70552994 14.60942398 23.78941756\n",
            " 35.24955073 15.42895615 23.81539899 19.8180147  14.17029266 21.3732241\n",
            " 25.08724982 15.80871844 18.36812654 16.30823945 28.06585546 22.0805188\n",
            " 20.95405902 29.99290679]\n",
            "[ 7.33753451 24.75596232 23.91788809 32.46097604 20.38749097 40.43196109\n",
            " 26.55853555 32.42043491 23.93012303 22.64439635 23.99508178 28.20175621\n",
            " 24.66471935 35.4758817  31.52187414 22.88556631 25.14230084 25.89890513\n",
            " 28.9026208  17.77065882 16.77191646 31.24786608 29.94213412 21.21670293\n",
            " 28.1055126  23.50292958 14.51809943 27.02101107  5.31164293 30.89541099\n",
            " 25.51805729 28.37794607 20.03927549 17.62805777 11.33307527 18.82908569\n",
            " 31.4319433  30.89013285 41.5469936  21.59135128 28.26078553  8.67326752\n",
            " 16.9900235  32.64089822 26.26353826 27.96032318 24.14990988 32.60542942\n",
            " 22.06872863 24.90379049 24.97792985 19.98302761 21.49767676 28.05205368\n",
            "  9.54699251 13.23466762 13.72659566 15.25150817 14.94078118 20.1858374\n",
            " 21.6951049  11.75536356 25.75621789 23.65561173 22.61741998 11.0076168\n",
            " 14.48876057 15.96540299 12.85227726 17.92874577 34.66893302 15.18178106\n",
            " 32.1177973  19.10895039 28.05550908 24.02019807 19.02190618 15.58795129\n",
            " 24.51558789 30.19426792 11.79624935 22.71378431 23.11972943 29.43438196\n",
            " 18.52718864 23.71663116 14.37051872 33.5906057  28.10022576 18.37259385\n",
            " 20.33354324 38.32959167 14.03297458 20.23311485 26.42875744 30.03218396\n",
            " 18.13619394 16.66605016 10.60020841 27.54298269 24.48517223 25.90880427\n",
            " 19.06656962 23.87067189 31.657504   22.43038081 18.99489902 12.2786412\n",
            " 21.96900164 36.9506829  19.47185034 21.69234247 25.502943   24.87051433\n",
            " 24.40414543 29.15693462 36.40743538 21.52672292 31.67767597 20.81937216\n",
            " 30.20429061 18.29698827 16.27072541 25.62760794 23.63240237 21.1309307\n",
            " 20.21340887 14.03978517 13.96144962 11.73574401 17.67541819 13.81236816\n",
            " 15.13765601 26.98636949 19.65526653 22.53607904 15.50478444 24.82929641\n",
            " 34.40062328 15.51357122 23.92286851 19.7606236  13.59861763 20.82275272\n",
            " 25.66494386 21.43122671 18.21025407 16.45583814 28.24141308 23.16252848\n",
            " 21.09354918 30.04760931]\n"
          ]
        }
      ]
    },
    {
      "cell_type": "code",
      "source": [
        "import seaborn as sns\n",
        "sns.displot(y_test - prediction_lasso, kde = True)"
      ],
      "metadata": {
        "colab": {
          "base_uri": "https://localhost:8080/",
          "height": 386
        },
        "id": "s77JZtbYXOHZ",
        "outputId": "bad1c11b-4756-4d0e-abf7-5f73415fdcda"
      },
      "execution_count": 114,
      "outputs": [
        {
          "output_type": "execute_result",
          "data": {
            "text/plain": [
              "<seaborn.axisgrid.FacetGrid at 0x7f844fcc1410>"
            ]
          },
          "metadata": {},
          "execution_count": 114
        },
        {
          "output_type": "display_data",
          "data": {
            "text/plain": [
              "<Figure size 360x360 with 1 Axes>"
            ],
            "image/png": "[encoded data removed]"
          },
          "metadata": {
            "needs_background": "light"
          }
        }
      ]
    },
    {
      "cell_type": "code",
      "source": [
        "sns.displot(y_test - prediction_ridge, kde = True)"
      ],
      "metadata": {
        "colab": {
          "base_uri": "https://localhost:8080/",
          "height": 386
        },
        "id": "cGK7zfOmXZRv",
        "outputId": "224c2ee2-700c-475a-bc5e-842b60012540"
      },
      "execution_count": 115,
      "outputs": [
        {
          "output_type": "execute_result",
          "data": {
            "text/plain": [
              "<seaborn.axisgrid.FacetGrid at 0x7f844f5cf290>"
            ]
          },
          "metadata": {},
          "execution_count": 115
        },
        {
          "output_type": "display_data",
          "data": {
            "text/plain": [
              "<Figure size 360x360 with 1 Axes>"
            ],
            "image/png": "[encoded data removed]"
          },
          "metadata": {
            "needs_background": "light"
          }
        }
      ]
    },
    {
      "cell_type": "code",
      "source": [],
      "metadata": {
        "id": "q92FpISrXs17"
      },
      "execution_count": null,
      "outputs": []
    }
  ]
}