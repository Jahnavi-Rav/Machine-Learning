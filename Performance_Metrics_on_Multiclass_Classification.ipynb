{
  "nbformat": 4,
  "nbformat_minor": 0,
  "metadata": {
    "colab": {
      "provenance": [],
      "collapsed_sections": []
    },
    "kernelspec": {
      "name": "python3",
      "display_name": "Python 3"
    },
    "language_info": {
      "name": "python"
    }
  },
  "cells": [
    {
      "cell_type": "code",
      "execution_count": 1,
      "metadata": {
        "id": "OwvxfHdYg_dF"
      },
      "outputs": [],
      "source": [
        "from sklearn import metrics"
      ]
    },
    {
      "cell_type": "code",
      "source": [
        "C = \"Cat\"\n",
        "D = \"Dog\"\n",
        "F = \"Fox\""
      ],
      "metadata": {
        "id": "nUvBnzKxhMEd"
      },
      "execution_count": 2,
      "outputs": []
    },
    {
      "cell_type": "code",
      "source": [
        "y_true = [C, C, C, C, C, C, F, F, F, F, F, F, F, F, F, F, D, D, D, D, D, D, D, D, D]\n",
        "y_pred = [C, C, C, C, D, F, C, C, C, C, C, C, D, D, F, F, C, C, C, D, D, D, D, D, D]"
      ],
      "metadata": {
        "id": "jqbeBpkAhRCp"
      },
      "execution_count": 3,
      "outputs": []
    },
    {
      "cell_type": "code",
      "source": [
        "metrics.confusion_matrix(y_true, y_pred)"
      ],
      "metadata": {
        "colab": {
          "base_uri": "https://localhost:8080/"
        },
        "id": "sgoAE97lh76Z",
        "outputId": "63086771-b224-4ac2-b9e2-a36496c8bdce"
      },
      "execution_count": 4,
      "outputs": [
        {
          "output_type": "execute_result",
          "data": {
            "text/plain": [
              "array([[4, 1, 1],\n",
              "       [3, 6, 0],\n",
              "       [6, 2, 2]])"
            ]
          },
          "metadata": {},
          "execution_count": 4
        }
      ]
    },
    {
      "cell_type": "code",
      "source": [
        "print(metrics.classification_report(y_true, y_pred, digits = 3))"
      ],
      "metadata": {
        "colab": {
          "base_uri": "https://localhost:8080/"
        },
        "id": "rQC3ICOViFaw",
        "outputId": "d6110acc-5592-468a-dcc9-0eccc105c24f"
      },
      "execution_count": 6,
      "outputs": [
        {
          "output_type": "stream",
          "name": "stdout",
          "text": [
            "              precision    recall  f1-score   support\n",
            "\n",
            "         Cat      0.308     0.667     0.421         6\n",
            "         Dog      0.667     0.667     0.667         9\n",
            "         Fox      0.667     0.200     0.308        10\n",
            "\n",
            "    accuracy                          0.480        25\n",
            "   macro avg      0.547     0.511     0.465        25\n",
            "weighted avg      0.581     0.480     0.464        25\n",
            "\n"
          ]
        }
      ]
    },
    {
      "cell_type": "code",
      "source": [],
      "metadata": {
        "id": "FuAGo4jWiSWh"
      },
      "execution_count": null,
      "outputs": []
    }
  ]
}