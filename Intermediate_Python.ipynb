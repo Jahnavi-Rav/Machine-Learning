{
  "nbformat": 4,
  "nbformat_minor": 0,
  "metadata": {
    "colab": {
      "provenance": [],
      "collapsed_sections": []
    },
    "kernelspec": {
      "name": "python3",
      "display_name": "Python 3"
    },
    "language_info": {
      "name": "python"
    }
  },
  "cells": [
    {
      "cell_type": "code",
      "execution_count": 1,
      "metadata": {
        "id": "5uUzem6pqg4p"
      },
      "outputs": [],
      "source": [
        "l = [1,2,3,4,5,6,7,8,9,10,12,13,14,15]"
      ]
    },
    {
      "cell_type": "code",
      "source": [
        "even_sum = 0\n",
        "odd_sum = 0\n",
        "for i in l:\n",
        "  if i%2 == 0:\n",
        "    even_sum = even_sum + i\n",
        "  else:\n",
        "    odd_sum = odd_sum + i\n",
        "print(even_sum, odd_sum)"
      ],
      "metadata": {
        "colab": {
          "base_uri": "https://localhost:8080/"
        },
        "id": "cn6N8zXGqrWT",
        "outputId": "c00aae72-be03-4415-c637-eedaf26b7991"
      },
      "execution_count": 2,
      "outputs": [
        {
          "output_type": "stream",
          "name": "stdout",
          "text": [
            "56 53\n"
          ]
        }
      ]
    },
    {
      "cell_type": "code",
      "source": [
        "def add_num(num1, num2):\n",
        "  return num1 + num2\n",
        "\n",
        "add_num(2, 6)"
      ],
      "metadata": {
        "colab": {
          "base_uri": "https://localhost:8080/"
        },
        "id": "ZLHuYoXwrCdO",
        "outputId": "3f613f01-19c0-4f80-a34b-58cff8fc4835"
      },
      "execution_count": 3,
      "outputs": [
        {
          "output_type": "execute_result",
          "data": {
            "text/plain": [
              "8"
            ]
          },
          "metadata": {},
          "execution_count": 3
        }
      ]
    },
    {
      "cell_type": "code",
      "source": [
        "def add_list(lst):\n",
        "    sum1 =0\n",
        "    for i in lst:\n",
        "        #print(i)\n",
        "        sum1=sum1+int(i)\n",
        "    return sum1"
      ],
      "metadata": {
        "id": "H90y7wTgrPsz"
      },
      "execution_count": 11,
      "outputs": []
    },
    {
      "cell_type": "code",
      "source": [
        "add_list([1,2,3,4,5,6])"
      ],
      "metadata": {
        "colab": {
          "base_uri": "https://localhost:8080/"
        },
        "id": "DDUt4KINr2p5",
        "outputId": "6b31f4a2-e8c6-42b7-ccbe-2d7cd437bdb9"
      },
      "execution_count": 12,
      "outputs": [
        {
          "output_type": "execute_result",
          "data": {
            "text/plain": [
              "21"
            ]
          },
          "metadata": {},
          "execution_count": 12
        }
      ]
    },
    {
      "cell_type": "code",
      "source": [
        "input_num = list(input(\"Enter the list\"))"
      ],
      "metadata": {
        "colab": {
          "base_uri": "https://localhost:8080/"
        },
        "id": "QRNz16-0sbpx",
        "outputId": "33135105-c17c-4230-c5b7-4ff52b818fce"
      },
      "execution_count": 34,
      "outputs": [
        {
          "name": "stdout",
          "output_type": "stream",
          "text": [
            "Enter the list6789\n"
          ]
        }
      ]
    },
    {
      "cell_type": "code",
      "source": [
        "input_num"
      ],
      "metadata": {
        "colab": {
          "base_uri": "https://localhost:8080/"
        },
        "id": "MouiMP8Dsp2u",
        "outputId": "464610ba-e75c-4a82-f9c0-c5815e4d945e"
      },
      "execution_count": 36,
      "outputs": [
        {
          "output_type": "execute_result",
          "data": {
            "text/plain": [
              "['6', '7', '8', '9']"
            ]
          },
          "metadata": {},
          "execution_count": 36
        }
      ]
    },
    {
      "cell_type": "code",
      "source": [
        "add_list(input_num)"
      ],
      "metadata": {
        "colab": {
          "base_uri": "https://localhost:8080/"
        },
        "id": "okCwxthwsvKT",
        "outputId": "c020fa08-f7ae-448a-bb9e-4045a8b58164"
      },
      "execution_count": 40,
      "outputs": [
        {
          "output_type": "execute_result",
          "data": {
            "text/plain": [
              "30"
            ]
          },
          "metadata": {},
          "execution_count": 40
        }
      ]
    },
    {
      "cell_type": "code",
      "source": [
        "def even_or_odd(num):\n",
        "  if num%2 == 0:\n",
        "    return \"The {} is Even\".format(num)\n",
        "  else:\n",
        "    return \"The {} is Odd\".format(num)"
      ],
      "metadata": {
        "id": "ivZKQGzYt3-T"
      },
      "execution_count": 41,
      "outputs": []
    },
    {
      "cell_type": "code",
      "source": [
        "even_or_odd(25)"
      ],
      "metadata": {
        "colab": {
          "base_uri": "https://localhost:8080/",
          "height": 37
        },
        "id": "XHlfhKt4u1hu",
        "outputId": "5c41b5a7-3899-4988-b735-db26b8d30a51"
      },
      "execution_count": 43,
      "outputs": [
        {
          "output_type": "execute_result",
          "data": {
            "text/plain": [
              "'The 25 is Odd'"
            ],
            "application/vnd.google.colaboratory.intrinsic+json": {
              "type": "string"
            }
          },
          "metadata": {},
          "execution_count": 43
        }
      ]
    },
    {
      "cell_type": "code",
      "source": [
        "lst = [1, 2, 3, 4, 5, 6, 7, 8, 9, 24, 56, 78]"
      ],
      "metadata": {
        "id": "RWVSoOcbu3l2"
      },
      "execution_count": 44,
      "outputs": []
    },
    {
      "cell_type": "code",
      "source": [
        "map(even_or_odd, lst)"
      ],
      "metadata": {
        "colab": {
          "base_uri": "https://localhost:8080/"
        },
        "id": "hY97BQNRvBxh",
        "outputId": "851169db-25a2-4a99-c8a8-3d1f638afa6a"
      },
      "execution_count": 45,
      "outputs": [
        {
          "output_type": "execute_result",
          "data": {
            "text/plain": [
              "<map at 0x7fc6434eabd0>"
            ]
          },
          "metadata": {},
          "execution_count": 45
        }
      ]
    },
    {
      "cell_type": "code",
      "source": [
        "list(map(even_or_odd, lst))"
      ],
      "metadata": {
        "colab": {
          "base_uri": "https://localhost:8080/"
        },
        "id": "8J3gZB6uvJlh",
        "outputId": "17a77b29-0479-46f3-d748-043f4ef56238"
      },
      "execution_count": 46,
      "outputs": [
        {
          "output_type": "execute_result",
          "data": {
            "text/plain": [
              "['The 1 is Odd',\n",
              " 'The 2 is Even',\n",
              " 'The 3 is Odd',\n",
              " 'The 4 is Even',\n",
              " 'The 5 is Odd',\n",
              " 'The 6 is Even',\n",
              " 'The 7 is Odd',\n",
              " 'The 8 is Even',\n",
              " 'The 9 is Odd',\n",
              " 'The 24 is Even',\n",
              " 'The 56 is Even',\n",
              " 'The 78 is Even']"
            ]
          },
          "metadata": {},
          "execution_count": 46
        }
      ]
    },
    {
      "cell_type": "code",
      "source": [
        "tupl = (1, 2, 3, 4, 5, 6, 7, 8, 9, 24, 56, 78)"
      ],
      "metadata": {
        "id": "c7fTOkguvPQk"
      },
      "execution_count": 51,
      "outputs": []
    },
    {
      "cell_type": "code",
      "source": [
        "map(even_or_odd, tupl)"
      ],
      "metadata": {
        "colab": {
          "base_uri": "https://localhost:8080/"
        },
        "id": "2CTthToavk6l",
        "outputId": "3edb2596-3dc1-4c8f-abd9-0e40911e954b"
      },
      "execution_count": 52,
      "outputs": [
        {
          "output_type": "execute_result",
          "data": {
            "text/plain": [
              "<map at 0x7fc6433a8c90>"
            ]
          },
          "metadata": {},
          "execution_count": 52
        }
      ]
    },
    {
      "cell_type": "code",
      "source": [
        "list(map(even_or_odd, tupl))"
      ],
      "metadata": {
        "colab": {
          "base_uri": "https://localhost:8080/"
        },
        "id": "86WnrZPLvpyb",
        "outputId": "c24616bd-cbdd-45a8-8919-c3b6b871d087"
      },
      "execution_count": 60,
      "outputs": [
        {
          "output_type": "execute_result",
          "data": {
            "text/plain": [
              "['The 1 is Odd',\n",
              " 'The 2 is Even',\n",
              " 'The 3 is Odd',\n",
              " 'The 4 is Even',\n",
              " 'The 5 is Odd',\n",
              " 'The 6 is Even',\n",
              " 'The 7 is Odd',\n",
              " 'The 8 is Even',\n",
              " 'The 9 is Odd',\n",
              " 'The 24 is Even',\n",
              " 'The 56 is Even',\n",
              " 'The 78 is Even']"
            ]
          },
          "metadata": {},
          "execution_count": 60
        }
      ]
    },
    {
      "cell_type": "code",
      "source": [
        "def addition(a, b):\n",
        "  return a + b"
      ],
      "metadata": {
        "id": "xrPdDdJPvsyO"
      },
      "execution_count": 61,
      "outputs": []
    },
    {
      "cell_type": "code",
      "source": [
        "addition(4, 8)"
      ],
      "metadata": {
        "colab": {
          "base_uri": "https://localhost:8080/"
        },
        "id": "PHUvQtFcwa8h",
        "outputId": "23ee3193-24a3-4774-d7cf-1fc1088f8fcb"
      },
      "execution_count": 62,
      "outputs": [
        {
          "output_type": "execute_result",
          "data": {
            "text/plain": [
              "12"
            ]
          },
          "metadata": {},
          "execution_count": 62
        }
      ]
    },
    {
      "cell_type": "code",
      "source": [
        "add = lambda a, b: a + b"
      ],
      "metadata": {
        "id": "D0XibH0mwes-"
      },
      "execution_count": 65,
      "outputs": []
    },
    {
      "cell_type": "code",
      "source": [
        "add(5, 8)"
      ],
      "metadata": {
        "colab": {
          "base_uri": "https://localhost:8080/"
        },
        "id": "JgkOMj0rwjL_",
        "outputId": "1de99014-0352-401b-fd20-a51f7f671f49"
      },
      "execution_count": 66,
      "outputs": [
        {
          "output_type": "execute_result",
          "data": {
            "text/plain": [
              "13"
            ]
          },
          "metadata": {},
          "execution_count": 66
        }
      ]
    },
    {
      "cell_type": "code",
      "source": [
        "def even(num):\n",
        "  if num%2 == 0:\n",
        "    return True"
      ],
      "metadata": {
        "id": "7M7qWjf9wv3q"
      },
      "execution_count": 67,
      "outputs": []
    },
    {
      "cell_type": "code",
      "source": [
        "e = lambda num: num%2==0"
      ],
      "metadata": {
        "id": "z40ApwPSxAIa"
      },
      "execution_count": 68,
      "outputs": []
    },
    {
      "cell_type": "code",
      "source": [
        "e(3)"
      ],
      "metadata": {
        "colab": {
          "base_uri": "https://localhost:8080/"
        },
        "id": "kPoGh9yBxIu-",
        "outputId": "513c7a5a-7100-45d8-cadb-f0054817b5d1"
      },
      "execution_count": 69,
      "outputs": [
        {
          "output_type": "execute_result",
          "data": {
            "text/plain": [
              "False"
            ]
          },
          "metadata": {},
          "execution_count": 69
        }
      ]
    },
    {
      "cell_type": "code",
      "source": [
        "s = lambda x, y, z: (x + y)**z"
      ],
      "metadata": {
        "id": "fmeH6gMxxJj9"
      },
      "execution_count": 76,
      "outputs": []
    },
    {
      "cell_type": "code",
      "source": [
        "s(2, 2, 3)"
      ],
      "metadata": {
        "colab": {
          "base_uri": "https://localhost:8080/"
        },
        "id": "L4NW6-zKxRyS",
        "outputId": "3b2a49fc-4675-428b-f5e6-1f88d249a92c"
      },
      "execution_count": 77,
      "outputs": [
        {
          "output_type": "execute_result",
          "data": {
            "text/plain": [
              "64"
            ]
          },
          "metadata": {},
          "execution_count": 77
        }
      ]
    },
    {
      "cell_type": "code",
      "source": [
        "def odd(num):\n",
        "  if num%2 != 0:\n",
        "    return True"
      ],
      "metadata": {
        "id": "EzXB0WWNxVWn"
      },
      "execution_count": 87,
      "outputs": []
    },
    {
      "cell_type": "code",
      "source": [
        "lst = [1, 2, 3, 4, 5, 6, 7, 8, 9, 0]"
      ],
      "metadata": {
        "id": "tbXZtfAOx8vW"
      },
      "execution_count": 88,
      "outputs": []
    },
    {
      "cell_type": "code",
      "source": [
        "list(filter(odd, lst))"
      ],
      "metadata": {
        "colab": {
          "base_uri": "https://localhost:8080/"
        },
        "id": "La188H31yAnw",
        "outputId": "95b8ec19-fd79-46b5-94e1-4b0c7366a729"
      },
      "execution_count": 90,
      "outputs": [
        {
          "output_type": "execute_result",
          "data": {
            "text/plain": [
              "[1, 3, 5, 7, 9]"
            ]
          },
          "metadata": {},
          "execution_count": 90
        }
      ]
    },
    {
      "cell_type": "code",
      "source": [
        "list(filter(lambda num: num%2!=0, lst))"
      ],
      "metadata": {
        "colab": {
          "base_uri": "https://localhost:8080/"
        },
        "id": "0wRLZjUwyDbZ",
        "outputId": "bb13db9a-731f-44c1-961b-d1faca2eac69"
      },
      "execution_count": 92,
      "outputs": [
        {
          "output_type": "execute_result",
          "data": {
            "text/plain": [
              "[1, 3, 5, 7, 9]"
            ]
          },
          "metadata": {},
          "execution_count": 92
        }
      ]
    },
    {
      "cell_type": "code",
      "source": [
        "list(map(lambda num: num%2!=0, lst))"
      ],
      "metadata": {
        "colab": {
          "base_uri": "https://localhost:8080/"
        },
        "id": "qUnxV-xQyc48",
        "outputId": "763f7659-a5be-4707-9668-03fad0733fac"
      },
      "execution_count": 93,
      "outputs": [
        {
          "output_type": "execute_result",
          "data": {
            "text/plain": [
              "[True, False, True, False, True, False, True, False, True, False]"
            ]
          },
          "metadata": {},
          "execution_count": 93
        }
      ]
    },
    {
      "cell_type": "code",
      "source": [
        "import numpy as np\n",
        "lst1 = []\n",
        "def lst_sqrt(lst):\n",
        "  for i in lst:\n",
        "    lst1.append(np.sqrt(i)) \n",
        "  return lst1 "
      ],
      "metadata": {
        "id": "sylJZa9-yiiW"
      },
      "execution_count": 94,
      "outputs": []
    },
    {
      "cell_type": "code",
      "source": [
        "lst_sqrt([1, 4, 9, 16, 25, 36, 49])"
      ],
      "metadata": {
        "colab": {
          "base_uri": "https://localhost:8080/"
        },
        "id": "oTRY2Kn0yrng",
        "outputId": "b1eb294f-0b42-494b-8358-a0f15baa3deb"
      },
      "execution_count": 95,
      "outputs": [
        {
          "output_type": "execute_result",
          "data": {
            "text/plain": [
              "[1.0, 2.0, 3.0, 4.0, 5.0, 6.0, 7.0]"
            ]
          },
          "metadata": {},
          "execution_count": 95
        }
      ]
    },
    {
      "cell_type": "code",
      "source": [
        "lst = [1, 4, 9, 16, 25, 36, 49]\n",
        "[np.sqrt(i) for i in lst]"
      ],
      "metadata": {
        "colab": {
          "base_uri": "https://localhost:8080/"
        },
        "id": "gm0fpLStyrw9",
        "outputId": "ec31932f-d51e-44cc-e609-ed6af3774902"
      },
      "execution_count": 99,
      "outputs": [
        {
          "output_type": "execute_result",
          "data": {
            "text/plain": [
              "[1.0, 2.0, 3.0, 4.0, 5.0, 6.0, 7.0]"
            ]
          },
          "metadata": {},
          "execution_count": 99
        }
      ]
    },
    {
      "cell_type": "code",
      "source": [
        " [np.sqrt(i) for i in lst if i%2 != 0]"
      ],
      "metadata": {
        "colab": {
          "base_uri": "https://localhost:8080/"
        },
        "id": "KJjHvxhmyr6O",
        "outputId": "a69e4f6f-c23d-483f-b754-55e1c9c2d32f"
      },
      "execution_count": 100,
      "outputs": [
        {
          "output_type": "execute_result",
          "data": {
            "text/plain": [
              "[1.0, 3.0, 5.0, 7.0]"
            ]
          },
          "metadata": {},
          "execution_count": 100
        }
      ]
    },
    {
      "cell_type": "code",
      "source": [],
      "metadata": {
        "id": "13n1rZwQ0Q-A"
      },
      "execution_count": null,
      "outputs": []
    }
  ]
}